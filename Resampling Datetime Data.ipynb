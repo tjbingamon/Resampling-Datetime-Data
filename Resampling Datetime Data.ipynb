{
 "cells": [
  {
   "cell_type": "markdown",
   "id": "09550fee",
   "metadata": {},
   "source": [
    "# Import Libraries"
   ]
  },
  {
   "cell_type": "code",
   "execution_count": 10,
   "id": "b7d89238",
   "metadata": {},
   "outputs": [],
   "source": [
    "import pandas as pd\n",
    "import numpy as np\n",
    "import matplotlib.pyplot as plt\n",
    "import seaborn as sns\n",
    "\n",
    "import datetime as dt\n",
    "\n",
    "\n",
    "import matplotlib.ticker as mticks\n",
    "import matplotlib.dates as mdates"
   ]
  },
  {
   "cell_type": "markdown",
   "id": "5e28eebc",
   "metadata": {},
   "source": [
    "# 1) Load Data/Create Datetime Index"
   ]
  },
  {
   "cell_type": "code",
   "execution_count": 11,
   "id": "87a29072",
   "metadata": {},
   "outputs": [
    {
     "data": {
      "text/html": [
       "<div>\n",
       "<style scoped>\n",
       "    .dataframe tbody tr th:only-of-type {\n",
       "        vertical-align: middle;\n",
       "    }\n",
       "\n",
       "    .dataframe tbody tr th {\n",
       "        vertical-align: top;\n",
       "    }\n",
       "\n",
       "    .dataframe thead th {\n",
       "        text-align: right;\n",
       "    }\n",
       "</style>\n",
       "<table border=\"1\" class=\"dataframe\">\n",
       "  <thead>\n",
       "    <tr style=\"text-align: right;\">\n",
       "      <th></th>\n",
       "      <th>date</th>\n",
       "      <th>cloud_cover</th>\n",
       "      <th>sunshine</th>\n",
       "      <th>global_radiation</th>\n",
       "      <th>max_temp</th>\n",
       "      <th>mean_temp</th>\n",
       "      <th>min_temp</th>\n",
       "      <th>precipitation</th>\n",
       "      <th>pressure</th>\n",
       "      <th>snow_depth</th>\n",
       "    </tr>\n",
       "  </thead>\n",
       "  <tbody>\n",
       "    <tr>\n",
       "      <th>0</th>\n",
       "      <td>19790101</td>\n",
       "      <td>2.0</td>\n",
       "      <td>7.0</td>\n",
       "      <td>52.0</td>\n",
       "      <td>2.3</td>\n",
       "      <td>-4.1</td>\n",
       "      <td>-7.5</td>\n",
       "      <td>0.4</td>\n",
       "      <td>101900.0</td>\n",
       "      <td>9.0</td>\n",
       "    </tr>\n",
       "    <tr>\n",
       "      <th>1</th>\n",
       "      <td>19790102</td>\n",
       "      <td>6.0</td>\n",
       "      <td>1.7</td>\n",
       "      <td>27.0</td>\n",
       "      <td>1.6</td>\n",
       "      <td>-2.6</td>\n",
       "      <td>-7.5</td>\n",
       "      <td>0.0</td>\n",
       "      <td>102530.0</td>\n",
       "      <td>8.0</td>\n",
       "    </tr>\n",
       "    <tr>\n",
       "      <th>2</th>\n",
       "      <td>19790103</td>\n",
       "      <td>5.0</td>\n",
       "      <td>0.0</td>\n",
       "      <td>13.0</td>\n",
       "      <td>1.3</td>\n",
       "      <td>-2.8</td>\n",
       "      <td>-7.2</td>\n",
       "      <td>0.0</td>\n",
       "      <td>102050.0</td>\n",
       "      <td>4.0</td>\n",
       "    </tr>\n",
       "    <tr>\n",
       "      <th>3</th>\n",
       "      <td>19790104</td>\n",
       "      <td>8.0</td>\n",
       "      <td>0.0</td>\n",
       "      <td>13.0</td>\n",
       "      <td>-0.3</td>\n",
       "      <td>-2.6</td>\n",
       "      <td>-6.5</td>\n",
       "      <td>0.0</td>\n",
       "      <td>100840.0</td>\n",
       "      <td>2.0</td>\n",
       "    </tr>\n",
       "    <tr>\n",
       "      <th>4</th>\n",
       "      <td>19790105</td>\n",
       "      <td>6.0</td>\n",
       "      <td>2.0</td>\n",
       "      <td>29.0</td>\n",
       "      <td>5.6</td>\n",
       "      <td>-0.8</td>\n",
       "      <td>-1.4</td>\n",
       "      <td>0.0</td>\n",
       "      <td>102250.0</td>\n",
       "      <td>1.0</td>\n",
       "    </tr>\n",
       "    <tr>\n",
       "      <th>...</th>\n",
       "      <td>...</td>\n",
       "      <td>...</td>\n",
       "      <td>...</td>\n",
       "      <td>...</td>\n",
       "      <td>...</td>\n",
       "      <td>...</td>\n",
       "      <td>...</td>\n",
       "      <td>...</td>\n",
       "      <td>...</td>\n",
       "      <td>...</td>\n",
       "    </tr>\n",
       "    <tr>\n",
       "      <th>15336</th>\n",
       "      <td>20201227</td>\n",
       "      <td>1.0</td>\n",
       "      <td>0.9</td>\n",
       "      <td>32.0</td>\n",
       "      <td>7.5</td>\n",
       "      <td>7.5</td>\n",
       "      <td>7.6</td>\n",
       "      <td>2.0</td>\n",
       "      <td>98000.0</td>\n",
       "      <td>NaN</td>\n",
       "    </tr>\n",
       "    <tr>\n",
       "      <th>15337</th>\n",
       "      <td>20201228</td>\n",
       "      <td>7.0</td>\n",
       "      <td>3.7</td>\n",
       "      <td>38.0</td>\n",
       "      <td>3.6</td>\n",
       "      <td>1.1</td>\n",
       "      <td>-1.3</td>\n",
       "      <td>0.2</td>\n",
       "      <td>97370.0</td>\n",
       "      <td>NaN</td>\n",
       "    </tr>\n",
       "    <tr>\n",
       "      <th>15338</th>\n",
       "      <td>20201229</td>\n",
       "      <td>7.0</td>\n",
       "      <td>0.0</td>\n",
       "      <td>21.0</td>\n",
       "      <td>4.1</td>\n",
       "      <td>2.6</td>\n",
       "      <td>1.1</td>\n",
       "      <td>0.0</td>\n",
       "      <td>98830.0</td>\n",
       "      <td>NaN</td>\n",
       "    </tr>\n",
       "    <tr>\n",
       "      <th>15339</th>\n",
       "      <td>20201230</td>\n",
       "      <td>6.0</td>\n",
       "      <td>0.4</td>\n",
       "      <td>22.0</td>\n",
       "      <td>5.6</td>\n",
       "      <td>2.7</td>\n",
       "      <td>-0.1</td>\n",
       "      <td>0.0</td>\n",
       "      <td>100200.0</td>\n",
       "      <td>NaN</td>\n",
       "    </tr>\n",
       "    <tr>\n",
       "      <th>15340</th>\n",
       "      <td>20201231</td>\n",
       "      <td>7.0</td>\n",
       "      <td>1.3</td>\n",
       "      <td>34.0</td>\n",
       "      <td>1.5</td>\n",
       "      <td>-0.8</td>\n",
       "      <td>-3.1</td>\n",
       "      <td>0.0</td>\n",
       "      <td>100500.0</td>\n",
       "      <td>NaN</td>\n",
       "    </tr>\n",
       "  </tbody>\n",
       "</table>\n",
       "<p>15341 rows × 10 columns</p>\n",
       "</div>"
      ],
      "text/plain": [
       "           date  cloud_cover  sunshine  global_radiation  max_temp  mean_temp  \\\n",
       "0      19790101          2.0       7.0              52.0       2.3       -4.1   \n",
       "1      19790102          6.0       1.7              27.0       1.6       -2.6   \n",
       "2      19790103          5.0       0.0              13.0       1.3       -2.8   \n",
       "3      19790104          8.0       0.0              13.0      -0.3       -2.6   \n",
       "4      19790105          6.0       2.0              29.0       5.6       -0.8   \n",
       "...         ...          ...       ...               ...       ...        ...   \n",
       "15336  20201227          1.0       0.9              32.0       7.5        7.5   \n",
       "15337  20201228          7.0       3.7              38.0       3.6        1.1   \n",
       "15338  20201229          7.0       0.0              21.0       4.1        2.6   \n",
       "15339  20201230          6.0       0.4              22.0       5.6        2.7   \n",
       "15340  20201231          7.0       1.3              34.0       1.5       -0.8   \n",
       "\n",
       "       min_temp  precipitation  pressure  snow_depth  \n",
       "0          -7.5            0.4  101900.0         9.0  \n",
       "1          -7.5            0.0  102530.0         8.0  \n",
       "2          -7.2            0.0  102050.0         4.0  \n",
       "3          -6.5            0.0  100840.0         2.0  \n",
       "4          -1.4            0.0  102250.0         1.0  \n",
       "...         ...            ...       ...         ...  \n",
       "15336       7.6            2.0   98000.0         NaN  \n",
       "15337      -1.3            0.2   97370.0         NaN  \n",
       "15338       1.1            0.0   98830.0         NaN  \n",
       "15339      -0.1            0.0  100200.0         NaN  \n",
       "15340      -3.1            0.0  100500.0         NaN  \n",
       "\n",
       "[15341 rows x 10 columns]"
      ]
     },
     "execution_count": 11,
     "metadata": {},
     "output_type": "execute_result"
    }
   ],
   "source": [
    "url = 'https://docs.google.com/spreadsheets/d/e/2PACX-1vT_jChgNsQbHbg4TGepzIqk8XC9DTIKmyyxb1upo5cfZCgbfIUQc2ZC0YMzuU5uApP140Ob49KBjdqh/pub?gid=1198589591&single=true&output=csv'\n",
    "df = pd.read_csv(url)\n",
    "df"
   ]
  },
  {
   "cell_type": "code",
   "execution_count": 12,
   "id": "0139a722",
   "metadata": {},
   "outputs": [
    {
     "name": "stdout",
     "output_type": "stream",
     "text": [
      "<class 'pandas.core.frame.DataFrame'>\n",
      "RangeIndex: 15341 entries, 0 to 15340\n",
      "Data columns (total 10 columns):\n",
      " #   Column            Non-Null Count  Dtype  \n",
      "---  ------            --------------  -----  \n",
      " 0   date              15341 non-null  int64  \n",
      " 1   cloud_cover       14938 non-null  float64\n",
      " 2   sunshine          14957 non-null  float64\n",
      " 3   global_radiation  14939 non-null  float64\n",
      " 4   max_temp          14951 non-null  float64\n",
      " 5   mean_temp         14922 non-null  float64\n",
      " 6   min_temp          14955 non-null  float64\n",
      " 7   precipitation     14951 non-null  float64\n",
      " 8   pressure          14953 non-null  float64\n",
      " 9   snow_depth        13589 non-null  float64\n",
      "dtypes: float64(9), int64(1)\n",
      "memory usage: 1.2 MB\n"
     ]
    }
   ],
   "source": [
    "df.info()"
   ]
  },
  {
   "cell_type": "markdown",
   "id": "ec793be0",
   "metadata": {},
   "source": [
    "# Convert date column to datetime dtype"
   ]
  },
  {
   "cell_type": "code",
   "execution_count": 13,
   "id": "7c0a8ee8",
   "metadata": {},
   "outputs": [
    {
     "data": {
      "text/html": [
       "<div>\n",
       "<style scoped>\n",
       "    .dataframe tbody tr th:only-of-type {\n",
       "        vertical-align: middle;\n",
       "    }\n",
       "\n",
       "    .dataframe tbody tr th {\n",
       "        vertical-align: top;\n",
       "    }\n",
       "\n",
       "    .dataframe thead th {\n",
       "        text-align: right;\n",
       "    }\n",
       "</style>\n",
       "<table border=\"1\" class=\"dataframe\">\n",
       "  <thead>\n",
       "    <tr style=\"text-align: right;\">\n",
       "      <th></th>\n",
       "      <th>date</th>\n",
       "      <th>cloud_cover</th>\n",
       "      <th>sunshine</th>\n",
       "      <th>global_radiation</th>\n",
       "      <th>max_temp</th>\n",
       "      <th>mean_temp</th>\n",
       "      <th>min_temp</th>\n",
       "      <th>precipitation</th>\n",
       "      <th>pressure</th>\n",
       "      <th>snow_depth</th>\n",
       "      <th>datetime</th>\n",
       "    </tr>\n",
       "  </thead>\n",
       "  <tbody>\n",
       "    <tr>\n",
       "      <th>0</th>\n",
       "      <td>19790101</td>\n",
       "      <td>2.0</td>\n",
       "      <td>7.0</td>\n",
       "      <td>52.0</td>\n",
       "      <td>2.3</td>\n",
       "      <td>-4.1</td>\n",
       "      <td>-7.5</td>\n",
       "      <td>0.4</td>\n",
       "      <td>101900.0</td>\n",
       "      <td>9.0</td>\n",
       "      <td>1979-01-01</td>\n",
       "    </tr>\n",
       "    <tr>\n",
       "      <th>1</th>\n",
       "      <td>19790102</td>\n",
       "      <td>6.0</td>\n",
       "      <td>1.7</td>\n",
       "      <td>27.0</td>\n",
       "      <td>1.6</td>\n",
       "      <td>-2.6</td>\n",
       "      <td>-7.5</td>\n",
       "      <td>0.0</td>\n",
       "      <td>102530.0</td>\n",
       "      <td>8.0</td>\n",
       "      <td>1979-01-02</td>\n",
       "    </tr>\n",
       "    <tr>\n",
       "      <th>2</th>\n",
       "      <td>19790103</td>\n",
       "      <td>5.0</td>\n",
       "      <td>0.0</td>\n",
       "      <td>13.0</td>\n",
       "      <td>1.3</td>\n",
       "      <td>-2.8</td>\n",
       "      <td>-7.2</td>\n",
       "      <td>0.0</td>\n",
       "      <td>102050.0</td>\n",
       "      <td>4.0</td>\n",
       "      <td>1979-01-03</td>\n",
       "    </tr>\n",
       "    <tr>\n",
       "      <th>3</th>\n",
       "      <td>19790104</td>\n",
       "      <td>8.0</td>\n",
       "      <td>0.0</td>\n",
       "      <td>13.0</td>\n",
       "      <td>-0.3</td>\n",
       "      <td>-2.6</td>\n",
       "      <td>-6.5</td>\n",
       "      <td>0.0</td>\n",
       "      <td>100840.0</td>\n",
       "      <td>2.0</td>\n",
       "      <td>1979-01-04</td>\n",
       "    </tr>\n",
       "    <tr>\n",
       "      <th>4</th>\n",
       "      <td>19790105</td>\n",
       "      <td>6.0</td>\n",
       "      <td>2.0</td>\n",
       "      <td>29.0</td>\n",
       "      <td>5.6</td>\n",
       "      <td>-0.8</td>\n",
       "      <td>-1.4</td>\n",
       "      <td>0.0</td>\n",
       "      <td>102250.0</td>\n",
       "      <td>1.0</td>\n",
       "      <td>1979-01-05</td>\n",
       "    </tr>\n",
       "  </tbody>\n",
       "</table>\n",
       "</div>"
      ],
      "text/plain": [
       "       date  cloud_cover  sunshine  global_radiation  max_temp  mean_temp  \\\n",
       "0  19790101          2.0       7.0              52.0       2.3       -4.1   \n",
       "1  19790102          6.0       1.7              27.0       1.6       -2.6   \n",
       "2  19790103          5.0       0.0              13.0       1.3       -2.8   \n",
       "3  19790104          8.0       0.0              13.0      -0.3       -2.6   \n",
       "4  19790105          6.0       2.0              29.0       5.6       -0.8   \n",
       "\n",
       "   min_temp  precipitation  pressure  snow_depth   datetime  \n",
       "0      -7.5            0.4  101900.0         9.0 1979-01-01  \n",
       "1      -7.5            0.0  102530.0         8.0 1979-01-02  \n",
       "2      -7.2            0.0  102050.0         4.0 1979-01-03  \n",
       "3      -6.5            0.0  100840.0         2.0 1979-01-04  \n",
       "4      -1.4            0.0  102250.0         1.0 1979-01-05  "
      ]
     },
     "execution_count": 13,
     "metadata": {},
     "output_type": "execute_result"
    }
   ],
   "source": [
    "df['datetime'] = pd.to_datetime(df['date'], format='%Y%m%d')\n",
    "df.head()"
   ]
  },
  {
   "cell_type": "markdown",
   "id": "d6a05f4c",
   "metadata": {},
   "source": [
    "# Set 'date' column as the index"
   ]
  },
  {
   "cell_type": "code",
   "execution_count": 14,
   "id": "59058a01",
   "metadata": {},
   "outputs": [
    {
     "data": {
      "text/html": [
       "<div>\n",
       "<style scoped>\n",
       "    .dataframe tbody tr th:only-of-type {\n",
       "        vertical-align: middle;\n",
       "    }\n",
       "\n",
       "    .dataframe tbody tr th {\n",
       "        vertical-align: top;\n",
       "    }\n",
       "\n",
       "    .dataframe thead th {\n",
       "        text-align: right;\n",
       "    }\n",
       "</style>\n",
       "<table border=\"1\" class=\"dataframe\">\n",
       "  <thead>\n",
       "    <tr style=\"text-align: right;\">\n",
       "      <th></th>\n",
       "      <th>date</th>\n",
       "      <th>cloud_cover</th>\n",
       "      <th>sunshine</th>\n",
       "      <th>global_radiation</th>\n",
       "      <th>max_temp</th>\n",
       "      <th>mean_temp</th>\n",
       "      <th>min_temp</th>\n",
       "      <th>precipitation</th>\n",
       "      <th>pressure</th>\n",
       "      <th>snow_depth</th>\n",
       "    </tr>\n",
       "    <tr>\n",
       "      <th>datetime</th>\n",
       "      <th></th>\n",
       "      <th></th>\n",
       "      <th></th>\n",
       "      <th></th>\n",
       "      <th></th>\n",
       "      <th></th>\n",
       "      <th></th>\n",
       "      <th></th>\n",
       "      <th></th>\n",
       "      <th></th>\n",
       "    </tr>\n",
       "  </thead>\n",
       "  <tbody>\n",
       "    <tr>\n",
       "      <th>1979-01-01</th>\n",
       "      <td>19790101</td>\n",
       "      <td>2.0</td>\n",
       "      <td>7.0</td>\n",
       "      <td>52.0</td>\n",
       "      <td>2.3</td>\n",
       "      <td>-4.1</td>\n",
       "      <td>-7.5</td>\n",
       "      <td>0.4</td>\n",
       "      <td>101900.0</td>\n",
       "      <td>9.0</td>\n",
       "    </tr>\n",
       "    <tr>\n",
       "      <th>1979-01-02</th>\n",
       "      <td>19790102</td>\n",
       "      <td>6.0</td>\n",
       "      <td>1.7</td>\n",
       "      <td>27.0</td>\n",
       "      <td>1.6</td>\n",
       "      <td>-2.6</td>\n",
       "      <td>-7.5</td>\n",
       "      <td>0.0</td>\n",
       "      <td>102530.0</td>\n",
       "      <td>8.0</td>\n",
       "    </tr>\n",
       "  </tbody>\n",
       "</table>\n",
       "</div>"
      ],
      "text/plain": [
       "                date  cloud_cover  sunshine  global_radiation  max_temp  \\\n",
       "datetime                                                                  \n",
       "1979-01-01  19790101          2.0       7.0              52.0       2.3   \n",
       "1979-01-02  19790102          6.0       1.7              27.0       1.6   \n",
       "\n",
       "            mean_temp  min_temp  precipitation  pressure  snow_depth  \n",
       "datetime                                                              \n",
       "1979-01-01       -4.1      -7.5            0.4  101900.0         9.0  \n",
       "1979-01-02       -2.6      -7.5            0.0  102530.0         8.0  "
      ]
     },
     "execution_count": 14,
     "metadata": {},
     "output_type": "execute_result"
    }
   ],
   "source": [
    "df = df.set_index('datetime')\n",
    "df.head(2)"
   ]
  },
  {
   "cell_type": "code",
   "execution_count": 15,
   "id": "bae7d18a",
   "metadata": {},
   "outputs": [
    {
     "data": {
      "text/html": [
       "<div>\n",
       "<style scoped>\n",
       "    .dataframe tbody tr th:only-of-type {\n",
       "        vertical-align: middle;\n",
       "    }\n",
       "\n",
       "    .dataframe tbody tr th {\n",
       "        vertical-align: top;\n",
       "    }\n",
       "\n",
       "    .dataframe thead th {\n",
       "        text-align: right;\n",
       "    }\n",
       "</style>\n",
       "<table border=\"1\" class=\"dataframe\">\n",
       "  <thead>\n",
       "    <tr style=\"text-align: right;\">\n",
       "      <th></th>\n",
       "      <th>cloud_cover</th>\n",
       "      <th>sunshine</th>\n",
       "      <th>global_radiation</th>\n",
       "      <th>max_temp</th>\n",
       "      <th>mean_temp</th>\n",
       "      <th>min_temp</th>\n",
       "      <th>precipitation</th>\n",
       "      <th>pressure</th>\n",
       "      <th>snow_depth</th>\n",
       "    </tr>\n",
       "    <tr>\n",
       "      <th>datetime</th>\n",
       "      <th></th>\n",
       "      <th></th>\n",
       "      <th></th>\n",
       "      <th></th>\n",
       "      <th></th>\n",
       "      <th></th>\n",
       "      <th></th>\n",
       "      <th></th>\n",
       "      <th></th>\n",
       "    </tr>\n",
       "  </thead>\n",
       "  <tbody>\n",
       "    <tr>\n",
       "      <th>1979-01-01</th>\n",
       "      <td>2.0</td>\n",
       "      <td>7.0</td>\n",
       "      <td>52.0</td>\n",
       "      <td>2.3</td>\n",
       "      <td>-4.1</td>\n",
       "      <td>-7.5</td>\n",
       "      <td>0.4</td>\n",
       "      <td>101900.0</td>\n",
       "      <td>9.0</td>\n",
       "    </tr>\n",
       "    <tr>\n",
       "      <th>1979-01-02</th>\n",
       "      <td>6.0</td>\n",
       "      <td>1.7</td>\n",
       "      <td>27.0</td>\n",
       "      <td>1.6</td>\n",
       "      <td>-2.6</td>\n",
       "      <td>-7.5</td>\n",
       "      <td>0.0</td>\n",
       "      <td>102530.0</td>\n",
       "      <td>8.0</td>\n",
       "    </tr>\n",
       "    <tr>\n",
       "      <th>1979-01-03</th>\n",
       "      <td>5.0</td>\n",
       "      <td>0.0</td>\n",
       "      <td>13.0</td>\n",
       "      <td>1.3</td>\n",
       "      <td>-2.8</td>\n",
       "      <td>-7.2</td>\n",
       "      <td>0.0</td>\n",
       "      <td>102050.0</td>\n",
       "      <td>4.0</td>\n",
       "    </tr>\n",
       "    <tr>\n",
       "      <th>1979-01-04</th>\n",
       "      <td>8.0</td>\n",
       "      <td>0.0</td>\n",
       "      <td>13.0</td>\n",
       "      <td>-0.3</td>\n",
       "      <td>-2.6</td>\n",
       "      <td>-6.5</td>\n",
       "      <td>0.0</td>\n",
       "      <td>100840.0</td>\n",
       "      <td>2.0</td>\n",
       "    </tr>\n",
       "    <tr>\n",
       "      <th>1979-01-05</th>\n",
       "      <td>6.0</td>\n",
       "      <td>2.0</td>\n",
       "      <td>29.0</td>\n",
       "      <td>5.6</td>\n",
       "      <td>-0.8</td>\n",
       "      <td>-1.4</td>\n",
       "      <td>0.0</td>\n",
       "      <td>102250.0</td>\n",
       "      <td>1.0</td>\n",
       "    </tr>\n",
       "  </tbody>\n",
       "</table>\n",
       "</div>"
      ],
      "text/plain": [
       "            cloud_cover  sunshine  global_radiation  max_temp  mean_temp  \\\n",
       "datetime                                                                   \n",
       "1979-01-01          2.0       7.0              52.0       2.3       -4.1   \n",
       "1979-01-02          6.0       1.7              27.0       1.6       -2.6   \n",
       "1979-01-03          5.0       0.0              13.0       1.3       -2.8   \n",
       "1979-01-04          8.0       0.0              13.0      -0.3       -2.6   \n",
       "1979-01-05          6.0       2.0              29.0       5.6       -0.8   \n",
       "\n",
       "            min_temp  precipitation  pressure  snow_depth  \n",
       "datetime                                                   \n",
       "1979-01-01      -7.5            0.4  101900.0         9.0  \n",
       "1979-01-02      -7.5            0.0  102530.0         8.0  \n",
       "1979-01-03      -7.2            0.0  102050.0         4.0  \n",
       "1979-01-04      -6.5            0.0  100840.0         2.0  \n",
       "1979-01-05      -1.4            0.0  102250.0         1.0  "
      ]
     },
     "execution_count": 15,
     "metadata": {},
     "output_type": "execute_result"
    }
   ],
   "source": [
    "# drop date from dataset\n",
    "df.drop(columns='date', inplace=True)\n",
    "df.head()"
   ]
  },
  {
   "cell_type": "markdown",
   "id": "267a7207",
   "metadata": {},
   "source": [
    "# Filter only the required data:\n",
    "\n",
    "- Keep only data from the year 2000 or later.\n",
    "- Keep only the following features:\n",
    "  - precipitation\n",
    "  - mean_temp\n",
    "  - min_temp\n",
    "  - max_temp\n",
    "  - snow_depth"
   ]
  },
  {
   "cell_type": "markdown",
   "id": "116685f7",
   "metadata": {},
   "source": [
    "### Filter Years"
   ]
  },
  {
   "cell_type": "code",
   "execution_count": 16,
   "id": "3ecbf64f",
   "metadata": {},
   "outputs": [
    {
     "data": {
      "text/plain": [
       "Index(['1979', '1980', '1981', '1982', '1983', '1984', '1985', '1986', '1987',\n",
       "       '1988', '1989', '1990', '1991', '1992', '1993', '1994', '1995', '1996',\n",
       "       '1997', '1998', '1999', '2000', '2001', '2002', '2003', '2004', '2005',\n",
       "       '2006', '2007', '2008', '2009', '2010', '2011', '2012', '2013', '2014',\n",
       "       '2015', '2016', '2017', '2018', '2019', '2020'],\n",
       "      dtype='object', name='datetime')"
      ]
     },
     "execution_count": 16,
     "metadata": {},
     "output_type": "execute_result"
    }
   ],
   "source": [
    "df.index.strftime('%Y').unique()"
   ]
  },
  {
   "cell_type": "code",
   "execution_count": 17,
   "id": "2785a99f",
   "metadata": {},
   "outputs": [
    {
     "data": {
      "text/html": [
       "<div>\n",
       "<style scoped>\n",
       "    .dataframe tbody tr th:only-of-type {\n",
       "        vertical-align: middle;\n",
       "    }\n",
       "\n",
       "    .dataframe tbody tr th {\n",
       "        vertical-align: top;\n",
       "    }\n",
       "\n",
       "    .dataframe thead th {\n",
       "        text-align: right;\n",
       "    }\n",
       "</style>\n",
       "<table border=\"1\" class=\"dataframe\">\n",
       "  <thead>\n",
       "    <tr style=\"text-align: right;\">\n",
       "      <th></th>\n",
       "      <th>cloud_cover</th>\n",
       "      <th>sunshine</th>\n",
       "      <th>global_radiation</th>\n",
       "      <th>max_temp</th>\n",
       "      <th>mean_temp</th>\n",
       "      <th>min_temp</th>\n",
       "      <th>precipitation</th>\n",
       "      <th>pressure</th>\n",
       "      <th>snow_depth</th>\n",
       "    </tr>\n",
       "    <tr>\n",
       "      <th>datetime</th>\n",
       "      <th></th>\n",
       "      <th></th>\n",
       "      <th></th>\n",
       "      <th></th>\n",
       "      <th></th>\n",
       "      <th></th>\n",
       "      <th></th>\n",
       "      <th></th>\n",
       "      <th></th>\n",
       "    </tr>\n",
       "  </thead>\n",
       "  <tbody>\n",
       "    <tr>\n",
       "      <th>2000-01-01</th>\n",
       "      <td>7.0</td>\n",
       "      <td>0.4</td>\n",
       "      <td>18.0</td>\n",
       "      <td>10.8</td>\n",
       "      <td>7.0</td>\n",
       "      <td>4.9</td>\n",
       "      <td>0.0</td>\n",
       "      <td>102450.0</td>\n",
       "      <td>0.0</td>\n",
       "    </tr>\n",
       "    <tr>\n",
       "      <th>2000-01-02</th>\n",
       "      <td>7.0</td>\n",
       "      <td>0.7</td>\n",
       "      <td>20.0</td>\n",
       "      <td>11.5</td>\n",
       "      <td>7.9</td>\n",
       "      <td>5.0</td>\n",
       "      <td>0.2</td>\n",
       "      <td>102530.0</td>\n",
       "      <td>0.0</td>\n",
       "    </tr>\n",
       "    <tr>\n",
       "      <th>2000-01-03</th>\n",
       "      <td>8.0</td>\n",
       "      <td>0.0</td>\n",
       "      <td>13.0</td>\n",
       "      <td>9.5</td>\n",
       "      <td>9.4</td>\n",
       "      <td>7.2</td>\n",
       "      <td>6.0</td>\n",
       "      <td>101860.0</td>\n",
       "      <td>0.0</td>\n",
       "    </tr>\n",
       "    <tr>\n",
       "      <th>2000-01-04</th>\n",
       "      <td>5.0</td>\n",
       "      <td>2.9</td>\n",
       "      <td>34.0</td>\n",
       "      <td>11.0</td>\n",
       "      <td>7.0</td>\n",
       "      <td>4.4</td>\n",
       "      <td>0.2</td>\n",
       "      <td>101480.0</td>\n",
       "      <td>0.0</td>\n",
       "    </tr>\n",
       "    <tr>\n",
       "      <th>2000-01-05</th>\n",
       "      <td>5.0</td>\n",
       "      <td>1.3</td>\n",
       "      <td>25.0</td>\n",
       "      <td>10.8</td>\n",
       "      <td>6.4</td>\n",
       "      <td>1.9</td>\n",
       "      <td>0.8</td>\n",
       "      <td>101420.0</td>\n",
       "      <td>0.0</td>\n",
       "    </tr>\n",
       "  </tbody>\n",
       "</table>\n",
       "</div>"
      ],
      "text/plain": [
       "            cloud_cover  sunshine  global_radiation  max_temp  mean_temp  \\\n",
       "datetime                                                                   \n",
       "2000-01-01          7.0       0.4              18.0      10.8        7.0   \n",
       "2000-01-02          7.0       0.7              20.0      11.5        7.9   \n",
       "2000-01-03          8.0       0.0              13.0       9.5        9.4   \n",
       "2000-01-04          5.0       2.9              34.0      11.0        7.0   \n",
       "2000-01-05          5.0       1.3              25.0      10.8        6.4   \n",
       "\n",
       "            min_temp  precipitation  pressure  snow_depth  \n",
       "datetime                                                   \n",
       "2000-01-01       4.9            0.0  102450.0         0.0  \n",
       "2000-01-02       5.0            0.2  102530.0         0.0  \n",
       "2000-01-03       7.2            6.0  101860.0         0.0  \n",
       "2000-01-04       4.4            0.2  101480.0         0.0  \n",
       "2000-01-05       1.9            0.8  101420.0         0.0  "
      ]
     },
     "execution_count": 17,
     "metadata": {},
     "output_type": "execute_result"
    }
   ],
   "source": [
    "df = df.loc['2000':]\n",
    "df.head()"
   ]
  },
  {
   "cell_type": "code",
   "execution_count": 18,
   "id": "4ea7c7fe",
   "metadata": {},
   "outputs": [
    {
     "data": {
      "text/plain": [
       "Index(['2000', '2001', '2002', '2003', '2004', '2005', '2006', '2007', '2008',\n",
       "       '2009', '2010', '2011', '2012', '2013', '2014', '2015', '2016', '2017',\n",
       "       '2018', '2019', '2020'],\n",
       "      dtype='object', name='datetime')"
      ]
     },
     "execution_count": 18,
     "metadata": {},
     "output_type": "execute_result"
    }
   ],
   "source": [
    "df.index.strftime('%Y').unique()"
   ]
  },
  {
   "cell_type": "markdown",
   "id": "fb43df5d",
   "metadata": {},
   "source": [
    "## Filter Features"
   ]
  },
  {
   "cell_type": "code",
   "execution_count": 19,
   "id": "24da6273",
   "metadata": {},
   "outputs": [
    {
     "data": {
      "text/html": [
       "<div>\n",
       "<style scoped>\n",
       "    .dataframe tbody tr th:only-of-type {\n",
       "        vertical-align: middle;\n",
       "    }\n",
       "\n",
       "    .dataframe tbody tr th {\n",
       "        vertical-align: top;\n",
       "    }\n",
       "\n",
       "    .dataframe thead th {\n",
       "        text-align: right;\n",
       "    }\n",
       "</style>\n",
       "<table border=\"1\" class=\"dataframe\">\n",
       "  <thead>\n",
       "    <tr style=\"text-align: right;\">\n",
       "      <th></th>\n",
       "      <th>precipitation</th>\n",
       "      <th>mean_temp</th>\n",
       "      <th>min_temp</th>\n",
       "      <th>max_temp</th>\n",
       "      <th>snow_depth</th>\n",
       "    </tr>\n",
       "    <tr>\n",
       "      <th>datetime</th>\n",
       "      <th></th>\n",
       "      <th></th>\n",
       "      <th></th>\n",
       "      <th></th>\n",
       "      <th></th>\n",
       "    </tr>\n",
       "  </thead>\n",
       "  <tbody>\n",
       "    <tr>\n",
       "      <th>2000-01-01</th>\n",
       "      <td>0.0</td>\n",
       "      <td>7.0</td>\n",
       "      <td>4.9</td>\n",
       "      <td>10.8</td>\n",
       "      <td>0.0</td>\n",
       "    </tr>\n",
       "    <tr>\n",
       "      <th>2000-01-02</th>\n",
       "      <td>0.2</td>\n",
       "      <td>7.9</td>\n",
       "      <td>5.0</td>\n",
       "      <td>11.5</td>\n",
       "      <td>0.0</td>\n",
       "    </tr>\n",
       "    <tr>\n",
       "      <th>2000-01-03</th>\n",
       "      <td>6.0</td>\n",
       "      <td>9.4</td>\n",
       "      <td>7.2</td>\n",
       "      <td>9.5</td>\n",
       "      <td>0.0</td>\n",
       "    </tr>\n",
       "    <tr>\n",
       "      <th>2000-01-04</th>\n",
       "      <td>0.2</td>\n",
       "      <td>7.0</td>\n",
       "      <td>4.4</td>\n",
       "      <td>11.0</td>\n",
       "      <td>0.0</td>\n",
       "    </tr>\n",
       "    <tr>\n",
       "      <th>2000-01-05</th>\n",
       "      <td>0.8</td>\n",
       "      <td>6.4</td>\n",
       "      <td>1.9</td>\n",
       "      <td>10.8</td>\n",
       "      <td>0.0</td>\n",
       "    </tr>\n",
       "  </tbody>\n",
       "</table>\n",
       "</div>"
      ],
      "text/plain": [
       "            precipitation  mean_temp  min_temp  max_temp  snow_depth\n",
       "datetime                                                            \n",
       "2000-01-01            0.0        7.0       4.9      10.8         0.0\n",
       "2000-01-02            0.2        7.9       5.0      11.5         0.0\n",
       "2000-01-03            6.0        9.4       7.2       9.5         0.0\n",
       "2000-01-04            0.2        7.0       4.4      11.0         0.0\n",
       "2000-01-05            0.8        6.4       1.9      10.8         0.0"
      ]
     },
     "execution_count": 19,
     "metadata": {},
     "output_type": "execute_result"
    }
   ],
   "source": [
    "df = df[['precipitation', 'mean_temp', 'min_temp', 'max_temp', 'snow_depth']]\n",
    "df.head()"
   ]
  },
  {
   "cell_type": "markdown",
   "id": "05519a6c",
   "metadata": {},
   "source": [
    "# Resample & Impute missing values\n",
    "\n",
    "- Think about each feature and what imputation method makes sense. \n",
    "\n",
    "- You may not be able to use the same method for every feature!"
   ]
  },
  {
   "cell_type": "code",
   "execution_count": 20,
   "id": "6156214b",
   "metadata": {},
   "outputs": [
    {
     "data": {
      "text/plain": [
       "precipitation     390\n",
       "mean_temp         419\n",
       "min_temp          386\n",
       "max_temp          390\n",
       "snow_depth       1752\n",
       "dtype: int64"
      ]
     },
     "execution_count": 20,
     "metadata": {},
     "output_type": "execute_result"
    }
   ],
   "source": [
    "df.isna().sum()"
   ]
  },
  {
   "cell_type": "code",
   "execution_count": 21,
   "id": "2ed3fd13",
   "metadata": {},
   "outputs": [
    {
     "data": {
      "text/plain": [
       "precipitation     5.08\n",
       "mean_temp         5.46\n",
       "min_temp          5.03\n",
       "max_temp          5.08\n",
       "snow_depth       22.84\n",
       "dtype: float64"
      ]
     },
     "execution_count": 21,
     "metadata": {},
     "output_type": "execute_result"
    }
   ],
   "source": [
    "((df.isna().sum() / len(df)) * 100).round(2)"
   ]
  },
  {
   "cell_type": "code",
   "execution_count": 22,
   "id": "2a3df3c6",
   "metadata": {},
   "outputs": [
    {
     "data": {
      "image/png": "[encoded data removed]",
      "text/plain": [
       "<Figure size 1200x800 with 5 Axes>"
      ]
     },
     "metadata": {},
     "output_type": "display_data"
    }
   ],
   "source": [
    "df.plot(figsize=(12,8), subplots=True);"
   ]
  },
  {
   "cell_type": "markdown",
   "id": "7e920014",
   "metadata": {},
   "source": [
    "### Resample"
   ]
  },
  {
   "cell_type": "code",
   "execution_count": 23,
   "id": "e8480633",
   "metadata": {},
   "outputs": [
    {
     "data": {
      "text/html": [
       "<div>\n",
       "<style scoped>\n",
       "    .dataframe tbody tr th:only-of-type {\n",
       "        vertical-align: middle;\n",
       "    }\n",
       "\n",
       "    .dataframe tbody tr th {\n",
       "        vertical-align: top;\n",
       "    }\n",
       "\n",
       "    .dataframe thead th {\n",
       "        text-align: right;\n",
       "    }\n",
       "</style>\n",
       "<table border=\"1\" class=\"dataframe\">\n",
       "  <thead>\n",
       "    <tr style=\"text-align: right;\">\n",
       "      <th></th>\n",
       "      <th>precipitation</th>\n",
       "      <th>mean_temp</th>\n",
       "      <th>min_temp</th>\n",
       "      <th>max_temp</th>\n",
       "      <th>snow_depth</th>\n",
       "    </tr>\n",
       "    <tr>\n",
       "      <th>datetime</th>\n",
       "      <th></th>\n",
       "      <th></th>\n",
       "      <th></th>\n",
       "      <th></th>\n",
       "      <th></th>\n",
       "    </tr>\n",
       "  </thead>\n",
       "  <tbody>\n",
       "    <tr>\n",
       "      <th>2000-01-31</th>\n",
       "      <td>14.3</td>\n",
       "      <td>159.5</td>\n",
       "      <td>78.3</td>\n",
       "      <td>236.6</td>\n",
       "      <td>0.0</td>\n",
       "    </tr>\n",
       "    <tr>\n",
       "      <th>2000-02-29</th>\n",
       "      <td>62.2</td>\n",
       "      <td>200.9</td>\n",
       "      <td>110.0</td>\n",
       "      <td>288.0</td>\n",
       "      <td>0.0</td>\n",
       "    </tr>\n",
       "    <tr>\n",
       "      <th>2000-03-31</th>\n",
       "      <td>13.4</td>\n",
       "      <td>254.6</td>\n",
       "      <td>147.0</td>\n",
       "      <td>366.2</td>\n",
       "      <td>0.0</td>\n",
       "    </tr>\n",
       "    <tr>\n",
       "      <th>2000-04-30</th>\n",
       "      <td>71.8</td>\n",
       "      <td>256.1</td>\n",
       "      <td>149.9</td>\n",
       "      <td>373.5</td>\n",
       "      <td>0.0</td>\n",
       "    </tr>\n",
       "    <tr>\n",
       "      <th>2000-05-31</th>\n",
       "      <td>68.4</td>\n",
       "      <td>402.4</td>\n",
       "      <td>278.9</td>\n",
       "      <td>520.2</td>\n",
       "      <td>0.0</td>\n",
       "    </tr>\n",
       "    <tr>\n",
       "      <th>...</th>\n",
       "      <td>...</td>\n",
       "      <td>...</td>\n",
       "      <td>...</td>\n",
       "      <td>...</td>\n",
       "      <td>...</td>\n",
       "    </tr>\n",
       "    <tr>\n",
       "      <th>2020-08-31</th>\n",
       "      <td>45.2</td>\n",
       "      <td>578.1</td>\n",
       "      <td>463.8</td>\n",
       "      <td>712.6</td>\n",
       "      <td>0.0</td>\n",
       "    </tr>\n",
       "    <tr>\n",
       "      <th>2020-09-30</th>\n",
       "      <td>19.2</td>\n",
       "      <td>479.6</td>\n",
       "      <td>334.8</td>\n",
       "      <td>625.6</td>\n",
       "      <td>0.0</td>\n",
       "    </tr>\n",
       "    <tr>\n",
       "      <th>2020-10-31</th>\n",
       "      <td>143.4</td>\n",
       "      <td>331.5</td>\n",
       "      <td>257.9</td>\n",
       "      <td>418.3</td>\n",
       "      <td>0.0</td>\n",
       "    </tr>\n",
       "    <tr>\n",
       "      <th>2020-11-30</th>\n",
       "      <td>47.8</td>\n",
       "      <td>266.3</td>\n",
       "      <td>189.8</td>\n",
       "      <td>344.0</td>\n",
       "      <td>0.0</td>\n",
       "    </tr>\n",
       "    <tr>\n",
       "      <th>2020-12-31</th>\n",
       "      <td>56.4</td>\n",
       "      <td>157.7</td>\n",
       "      <td>104.7</td>\n",
       "      <td>211.9</td>\n",
       "      <td>0.0</td>\n",
       "    </tr>\n",
       "  </tbody>\n",
       "</table>\n",
       "<p>252 rows × 5 columns</p>\n",
       "</div>"
      ],
      "text/plain": [
       "            precipitation  mean_temp  min_temp  max_temp  snow_depth\n",
       "datetime                                                            \n",
       "2000-01-31           14.3      159.5      78.3     236.6         0.0\n",
       "2000-02-29           62.2      200.9     110.0     288.0         0.0\n",
       "2000-03-31           13.4      254.6     147.0     366.2         0.0\n",
       "2000-04-30           71.8      256.1     149.9     373.5         0.0\n",
       "2000-05-31           68.4      402.4     278.9     520.2         0.0\n",
       "...                   ...        ...       ...       ...         ...\n",
       "2020-08-31           45.2      578.1     463.8     712.6         0.0\n",
       "2020-09-30           19.2      479.6     334.8     625.6         0.0\n",
       "2020-10-31          143.4      331.5     257.9     418.3         0.0\n",
       "2020-11-30           47.8      266.3     189.8     344.0         0.0\n",
       "2020-12-31           56.4      157.7     104.7     211.9         0.0\n",
       "\n",
       "[252 rows x 5 columns]"
      ]
     },
     "execution_count": 23,
     "metadata": {},
     "output_type": "execute_result"
    }
   ],
   "source": [
    "agg_dict = {'precipitation': 'sum', 'mean_temp': 'mean'}\n",
    "\n",
    "df_month = df.copy()\n",
    "df_month = df.resample('M').agg(agg_dict['precipitation'])\n",
    "df_month"
   ]
  },
  {
   "cell_type": "code",
   "execution_count": 24,
   "id": "c9152428",
   "metadata": {},
   "outputs": [
    {
     "data": {
      "text/html": [
       "<div>\n",
       "<style scoped>\n",
       "    .dataframe tbody tr th:only-of-type {\n",
       "        vertical-align: middle;\n",
       "    }\n",
       "\n",
       "    .dataframe tbody tr th {\n",
       "        vertical-align: top;\n",
       "    }\n",
       "\n",
       "    .dataframe thead th {\n",
       "        text-align: right;\n",
       "    }\n",
       "</style>\n",
       "<table border=\"1\" class=\"dataframe\">\n",
       "  <thead>\n",
       "    <tr style=\"text-align: right;\">\n",
       "      <th></th>\n",
       "      <th>precipitation</th>\n",
       "      <th>mean_temp</th>\n",
       "      <th>min_temp</th>\n",
       "      <th>max_temp</th>\n",
       "      <th>snow_depth</th>\n",
       "    </tr>\n",
       "    <tr>\n",
       "      <th>datetime</th>\n",
       "      <th></th>\n",
       "      <th></th>\n",
       "      <th></th>\n",
       "      <th></th>\n",
       "      <th></th>\n",
       "    </tr>\n",
       "  </thead>\n",
       "  <tbody>\n",
       "    <tr>\n",
       "      <th>2000-12-31</th>\n",
       "      <td>2.107289</td>\n",
       "      <td>11.532070</td>\n",
       "      <td>7.973469</td>\n",
       "      <td>15.108746</td>\n",
       "      <td>0.008746</td>\n",
       "    </tr>\n",
       "    <tr>\n",
       "      <th>2001-12-31</th>\n",
       "      <td>1.952023</td>\n",
       "      <td>11.313006</td>\n",
       "      <td>7.641618</td>\n",
       "      <td>14.965029</td>\n",
       "      <td>0.000000</td>\n",
       "    </tr>\n",
       "    <tr>\n",
       "      <th>2002-12-31</th>\n",
       "      <td>2.148286</td>\n",
       "      <td>12.006286</td>\n",
       "      <td>8.353143</td>\n",
       "      <td>15.732000</td>\n",
       "      <td>0.000000</td>\n",
       "    </tr>\n",
       "    <tr>\n",
       "      <th>2003-12-31</th>\n",
       "      <td>1.311396</td>\n",
       "      <td>12.232764</td>\n",
       "      <td>7.986040</td>\n",
       "      <td>16.494302</td>\n",
       "      <td>0.025641</td>\n",
       "    </tr>\n",
       "    <tr>\n",
       "      <th>2004-12-31</th>\n",
       "      <td>1.710951</td>\n",
       "      <td>11.872046</td>\n",
       "      <td>8.212392</td>\n",
       "      <td>15.514409</td>\n",
       "      <td>0.005764</td>\n",
       "    </tr>\n",
       "    <tr>\n",
       "      <th>2005-12-31</th>\n",
       "      <td>1.218497</td>\n",
       "      <td>11.879883</td>\n",
       "      <td>8.026301</td>\n",
       "      <td>15.732659</td>\n",
       "      <td>0.008721</td>\n",
       "    </tr>\n",
       "    <tr>\n",
       "      <th>2006-12-31</th>\n",
       "      <td>1.737931</td>\n",
       "      <td>12.387941</td>\n",
       "      <td>8.518103</td>\n",
       "      <td>16.173276</td>\n",
       "      <td>0.000000</td>\n",
       "    </tr>\n",
       "    <tr>\n",
       "      <th>2007-12-31</th>\n",
       "      <td>1.881449</td>\n",
       "      <td>12.063717</td>\n",
       "      <td>8.218551</td>\n",
       "      <td>15.942609</td>\n",
       "      <td>0.032609</td>\n",
       "    </tr>\n",
       "    <tr>\n",
       "      <th>2008-12-31</th>\n",
       "      <td>1.755932</td>\n",
       "      <td>11.174855</td>\n",
       "      <td>7.451412</td>\n",
       "      <td>15.025141</td>\n",
       "      <td>0.021858</td>\n",
       "    </tr>\n",
       "    <tr>\n",
       "      <th>2009-12-31</th>\n",
       "      <td>1.818338</td>\n",
       "      <td>11.722254</td>\n",
       "      <td>7.722063</td>\n",
       "      <td>15.653009</td>\n",
       "      <td>0.136364</td>\n",
       "    </tr>\n",
       "    <tr>\n",
       "      <th>2010-12-31</th>\n",
       "      <td>1.378426</td>\n",
       "      <td>10.645773</td>\n",
       "      <td>6.764723</td>\n",
       "      <td>14.491545</td>\n",
       "      <td>0.294118</td>\n",
       "    </tr>\n",
       "    <tr>\n",
       "      <th>2011-12-31</th>\n",
       "      <td>1.376879</td>\n",
       "      <td>12.474566</td>\n",
       "      <td>8.428035</td>\n",
       "      <td>16.515607</td>\n",
       "      <td>0.000000</td>\n",
       "    </tr>\n",
       "    <tr>\n",
       "      <th>2012-12-31</th>\n",
       "      <td>2.012828</td>\n",
       "      <td>11.323907</td>\n",
       "      <td>7.375510</td>\n",
       "      <td>15.247813</td>\n",
       "      <td>0.058309</td>\n",
       "    </tr>\n",
       "    <tr>\n",
       "      <th>2013-12-31</th>\n",
       "      <td>1.548991</td>\n",
       "      <td>11.202017</td>\n",
       "      <td>7.396542</td>\n",
       "      <td>14.987032</td>\n",
       "      <td>0.028818</td>\n",
       "    </tr>\n",
       "    <tr>\n",
       "      <th>2014-12-31</th>\n",
       "      <td>2.344476</td>\n",
       "      <td>12.613881</td>\n",
       "      <td>8.606232</td>\n",
       "      <td>16.574788</td>\n",
       "      <td>0.000000</td>\n",
       "    </tr>\n",
       "    <tr>\n",
       "      <th>2015-12-31</th>\n",
       "      <td>1.579710</td>\n",
       "      <td>12.091884</td>\n",
       "      <td>8.137391</td>\n",
       "      <td>16.003188</td>\n",
       "      <td>0.000000</td>\n",
       "    </tr>\n",
       "    <tr>\n",
       "      <th>2016-12-31</th>\n",
       "      <td>1.653977</td>\n",
       "      <td>11.894602</td>\n",
       "      <td>7.915057</td>\n",
       "      <td>15.870739</td>\n",
       "      <td>0.000000</td>\n",
       "    </tr>\n",
       "    <tr>\n",
       "      <th>2017-12-31</th>\n",
       "      <td>1.459195</td>\n",
       "      <td>12.238506</td>\n",
       "      <td>8.352586</td>\n",
       "      <td>16.081322</td>\n",
       "      <td>0.002874</td>\n",
       "    </tr>\n",
       "    <tr>\n",
       "      <th>2018-12-31</th>\n",
       "      <td>1.605764</td>\n",
       "      <td>12.440922</td>\n",
       "      <td>8.284150</td>\n",
       "      <td>16.619885</td>\n",
       "      <td>0.008646</td>\n",
       "    </tr>\n",
       "    <tr>\n",
       "      <th>2019-12-31</th>\n",
       "      <td>1.760465</td>\n",
       "      <td>12.229070</td>\n",
       "      <td>7.935465</td>\n",
       "      <td>16.488953</td>\n",
       "      <td>0.005814</td>\n",
       "    </tr>\n",
       "    <tr>\n",
       "      <th>2020-12-31</th>\n",
       "      <td>1.825150</td>\n",
       "      <td>12.717117</td>\n",
       "      <td>8.707692</td>\n",
       "      <td>16.814371</td>\n",
       "      <td>NaN</td>\n",
       "    </tr>\n",
       "  </tbody>\n",
       "</table>\n",
       "</div>"
      ],
      "text/plain": [
       "            precipitation  mean_temp  min_temp   max_temp  snow_depth\n",
       "datetime                                                             \n",
       "2000-12-31       2.107289  11.532070  7.973469  15.108746    0.008746\n",
       "2001-12-31       1.952023  11.313006  7.641618  14.965029    0.000000\n",
       "2002-12-31       2.148286  12.006286  8.353143  15.732000    0.000000\n",
       "2003-12-31       1.311396  12.232764  7.986040  16.494302    0.025641\n",
       "2004-12-31       1.710951  11.872046  8.212392  15.514409    0.005764\n",
       "2005-12-31       1.218497  11.879883  8.026301  15.732659    0.008721\n",
       "2006-12-31       1.737931  12.387941  8.518103  16.173276    0.000000\n",
       "2007-12-31       1.881449  12.063717  8.218551  15.942609    0.032609\n",
       "2008-12-31       1.755932  11.174855  7.451412  15.025141    0.021858\n",
       "2009-12-31       1.818338  11.722254  7.722063  15.653009    0.136364\n",
       "2010-12-31       1.378426  10.645773  6.764723  14.491545    0.294118\n",
       "2011-12-31       1.376879  12.474566  8.428035  16.515607    0.000000\n",
       "2012-12-31       2.012828  11.323907  7.375510  15.247813    0.058309\n",
       "2013-12-31       1.548991  11.202017  7.396542  14.987032    0.028818\n",
       "2014-12-31       2.344476  12.613881  8.606232  16.574788    0.000000\n",
       "2015-12-31       1.579710  12.091884  8.137391  16.003188    0.000000\n",
       "2016-12-31       1.653977  11.894602  7.915057  15.870739    0.000000\n",
       "2017-12-31       1.459195  12.238506  8.352586  16.081322    0.002874\n",
       "2018-12-31       1.605764  12.440922  8.284150  16.619885    0.008646\n",
       "2019-12-31       1.760465  12.229070  7.935465  16.488953    0.005814\n",
       "2020-12-31       1.825150  12.717117  8.707692  16.814371         NaN"
      ]
     },
     "execution_count": 24,
     "metadata": {},
     "output_type": "execute_result"
    }
   ],
   "source": [
    "df_year = df.copy()\n",
    "df_year = df.resample('A').agg(agg_dict['mean_temp'])\n",
    "df_year"
   ]
  },
  {
   "cell_type": "markdown",
   "id": "ce205533",
   "metadata": {},
   "source": [
    "### Impute Missing Values"
   ]
  },
  {
   "cell_type": "code",
   "execution_count": 25,
   "id": "1238068e",
   "metadata": {},
   "outputs": [
    {
     "data": {
      "text/plain": [
       "precipitation    0\n",
       "mean_temp        0\n",
       "min_temp         0\n",
       "max_temp         0\n",
       "snow_depth       0\n",
       "dtype: int64"
      ]
     },
     "execution_count": 25,
     "metadata": {},
     "output_type": "execute_result"
    }
   ],
   "source": [
    "df_month.isna().sum()"
   ]
  },
  {
   "cell_type": "code",
   "execution_count": 26,
   "id": "b8fdc286",
   "metadata": {},
   "outputs": [
    {
     "data": {
      "text/plain": [
       "precipitation    0\n",
       "mean_temp        0\n",
       "min_temp         0\n",
       "max_temp         0\n",
       "snow_depth       1\n",
       "dtype: int64"
      ]
     },
     "execution_count": 26,
     "metadata": {},
     "output_type": "execute_result"
    }
   ],
   "source": [
    "df_year.isna().sum()"
   ]
  },
  {
   "cell_type": "code",
   "execution_count": 27,
   "id": "3bd5f886",
   "metadata": {},
   "outputs": [
    {
     "data": {
      "text/plain": [
       "precipitation    0\n",
       "mean_temp        0\n",
       "min_temp         0\n",
       "max_temp         0\n",
       "snow_depth       0\n",
       "dtype: int64"
      ]
     },
     "execution_count": 27,
     "metadata": {},
     "output_type": "execute_result"
    }
   ],
   "source": [
    "df_year = df_year.interpolate()\n",
    "df_year.isna().sum()"
   ]
  },
  {
   "cell_type": "markdown",
   "id": "50b8baf8",
   "metadata": {},
   "source": [
    "# 2) Answer the Questions with Visualizations (Using the Correct Frequency)\n",
    "\n",
    "## Q1: What month had the most precipitation between 2000 through 2010?\n",
    "- Resample the data as Monthly frequency.\n",
    "- Find the date and corresponding value for the max precipitation.\n",
    "- Plot the feature and time period that corresponds to the question.\n",
    "- Make sure to meet the \"Visualization Requirements\" below!\n",
    "- Determine the date and value for the most precipitation (the max precipitation).\n",
    "- Add a vertical line at this date with a label that says the date (using date format: \"April 2000\") and the max precipitation value.\n",
    "- Make sure to add a legend so that your label is visible."
   ]
  },
  {
   "cell_type": "code",
   "execution_count": 28,
   "id": "12e05f5d",
   "metadata": {},
   "outputs": [
    {
     "data": {
      "text/plain": [
       "DatetimeIndex(['2000-01-31', '2000-02-29', '2000-03-31', '2000-04-30',\n",
       "               '2000-05-31', '2000-06-30', '2000-07-31', '2000-08-31',\n",
       "               '2000-09-30', '2000-10-31',\n",
       "               ...\n",
       "               '2010-03-31', '2010-04-30', '2010-05-31', '2010-06-30',\n",
       "               '2010-07-31', '2010-08-31', '2010-09-30', '2010-10-31',\n",
       "               '2010-11-30', '2010-12-31'],\n",
       "              dtype='datetime64[ns]', name='datetime', length=132, freq='M')"
      ]
     },
     "execution_count": 28,
     "metadata": {},
     "output_type": "execute_result"
    }
   ],
   "source": [
    "df_month = df_month.loc['2000':'2010']\n",
    "df_month.index"
   ]
  },
  {
   "cell_type": "code",
   "execution_count": 29,
   "id": "8b068f63",
   "metadata": {},
   "outputs": [
    {
     "data": {
      "text/html": [
       "<div>\n",
       "<style scoped>\n",
       "    .dataframe tbody tr th:only-of-type {\n",
       "        vertical-align: middle;\n",
       "    }\n",
       "\n",
       "    .dataframe tbody tr th {\n",
       "        vertical-align: top;\n",
       "    }\n",
       "\n",
       "    .dataframe thead th {\n",
       "        text-align: right;\n",
       "    }\n",
       "</style>\n",
       "<table border=\"1\" class=\"dataframe\">\n",
       "  <thead>\n",
       "    <tr style=\"text-align: right;\">\n",
       "      <th></th>\n",
       "      <th>precipitation</th>\n",
       "      <th>mean_temp</th>\n",
       "      <th>min_temp</th>\n",
       "      <th>max_temp</th>\n",
       "      <th>snow_depth</th>\n",
       "    </tr>\n",
       "    <tr>\n",
       "      <th>datetime</th>\n",
       "      <th></th>\n",
       "      <th></th>\n",
       "      <th></th>\n",
       "      <th></th>\n",
       "      <th></th>\n",
       "    </tr>\n",
       "  </thead>\n",
       "  <tbody>\n",
       "    <tr>\n",
       "      <th>2000-01-31</th>\n",
       "      <td>14.3</td>\n",
       "      <td>159.5</td>\n",
       "      <td>78.3</td>\n",
       "      <td>236.6</td>\n",
       "      <td>0.0</td>\n",
       "    </tr>\n",
       "    <tr>\n",
       "      <th>2000-02-29</th>\n",
       "      <td>62.2</td>\n",
       "      <td>200.9</td>\n",
       "      <td>110.0</td>\n",
       "      <td>288.0</td>\n",
       "      <td>0.0</td>\n",
       "    </tr>\n",
       "    <tr>\n",
       "      <th>2000-03-31</th>\n",
       "      <td>13.4</td>\n",
       "      <td>254.6</td>\n",
       "      <td>147.0</td>\n",
       "      <td>366.2</td>\n",
       "      <td>0.0</td>\n",
       "    </tr>\n",
       "    <tr>\n",
       "      <th>2000-04-30</th>\n",
       "      <td>71.8</td>\n",
       "      <td>256.1</td>\n",
       "      <td>149.9</td>\n",
       "      <td>373.5</td>\n",
       "      <td>0.0</td>\n",
       "    </tr>\n",
       "    <tr>\n",
       "      <th>2000-05-31</th>\n",
       "      <td>68.4</td>\n",
       "      <td>402.4</td>\n",
       "      <td>278.9</td>\n",
       "      <td>520.2</td>\n",
       "      <td>0.0</td>\n",
       "    </tr>\n",
       "  </tbody>\n",
       "</table>\n",
       "</div>"
      ],
      "text/plain": [
       "            precipitation  mean_temp  min_temp  max_temp  snow_depth\n",
       "datetime                                                            \n",
       "2000-01-31           14.3      159.5      78.3     236.6         0.0\n",
       "2000-02-29           62.2      200.9     110.0     288.0         0.0\n",
       "2000-03-31           13.4      254.6     147.0     366.2         0.0\n",
       "2000-04-30           71.8      256.1     149.9     373.5         0.0\n",
       "2000-05-31           68.4      402.4     278.9     520.2         0.0"
      ]
     },
     "execution_count": 29,
     "metadata": {},
     "output_type": "execute_result"
    }
   ],
   "source": [
    "df_month.head()"
   ]
  },
  {
   "cell_type": "markdown",
   "id": "7c5aa9a0",
   "metadata": {},
   "source": [
    "## Date/Value for Max Precipitation"
   ]
  },
  {
   "cell_type": "code",
   "execution_count": 30,
   "id": "e02c579f",
   "metadata": {},
   "outputs": [
    {
     "data": {
      "text/plain": [
       "precipitation    138.4\n",
       "mean_temp        288.1\n",
       "min_temp         214.1\n",
       "max_temp         356.1\n",
       "snow_depth         0.0\n",
       "Name: 2009-11-30 00:00:00, dtype: float64"
      ]
     },
     "execution_count": 30,
     "metadata": {},
     "output_type": "execute_result"
    }
   ],
   "source": [
    "df_month.loc[df_month['precipitation'].idxmax()]"
   ]
  },
  {
   "cell_type": "code",
   "execution_count": 31,
   "id": "1d5e3b67",
   "metadata": {},
   "outputs": [],
   "source": [
    "precipitation, mean_temp, min_temp, max_temp, snow_depth = df_month.loc[df_month['precipitation'].idxmax()]"
   ]
  },
  {
   "cell_type": "code",
   "execution_count": 32,
   "id": "30f03cce",
   "metadata": {},
   "outputs": [
    {
     "name": "stdout",
     "output_type": "stream",
     "text": [
      "2009-11-30\n"
     ]
    }
   ],
   "source": [
    "date = df_month.loc[df_month['precipitation'].idxmax()].name.date()\n",
    "print(date)"
   ]
  },
  {
   "cell_type": "code",
   "execution_count": 33,
   "id": "00701162",
   "metadata": {},
   "outputs": [
    {
     "name": "stdout",
     "output_type": "stream",
     "text": [
      "Date with highest precipitation: 2009-11-30\n",
      "Precipitation: 138.4\n"
     ]
    }
   ],
   "source": [
    "print(f'Date with highest precipitation: {date}')\n",
    "print(f'Precipitation: {precipitation}')"
   ]
  },
  {
   "cell_type": "markdown",
   "id": "9eee9147",
   "metadata": {},
   "source": [
    "## Plot feature and time period"
   ]
  },
  {
   "cell_type": "code",
   "execution_count": 34,
   "id": "f727bba0",
   "metadata": {},
   "outputs": [
    {
     "data": {
      "text/plain": [
       "datetime\n",
       "2000-01-31    14.3\n",
       "2000-02-29    62.2\n",
       "2000-03-31    13.4\n",
       "2000-04-30    71.8\n",
       "2000-05-31    68.4\n",
       "              ... \n",
       "2010-08-31    83.8\n",
       "2010-09-30    38.0\n",
       "2010-10-31    61.0\n",
       "2010-11-30    22.0\n",
       "2010-12-31    21.2\n",
       "Freq: M, Name: precipitation, Length: 132, dtype: float64"
      ]
     },
     "execution_count": 34,
     "metadata": {},
     "output_type": "execute_result"
    }
   ],
   "source": [
    "ts_2010 = df_month['precipitation']\n",
    "ts_2010"
   ]
  },
  {
   "cell_type": "code",
   "execution_count": 35,
   "id": "2a273032",
   "metadata": {},
   "outputs": [
    {
     "data": {
      "image/png": "[encoded data removed]",
      "text/plain": [
       "<Figure size 1200x300 with 1 Axes>"
      ]
     },
     "metadata": {},
     "output_type": "display_data"
    }
   ],
   "source": [
    "# move legend to outside of plot on right side\n",
    "fig, ax = plt.subplots(figsize=(12,3))\n",
    "ax.set_title('Precipitation for 2000-2010')\n",
    "\n",
    "ts_2010.plot(style='-')\n",
    "\n",
    "\n",
    "## Change the font of the major ticks to stand out\n",
    "ax.set_xticks(ax.get_xticks())\n",
    "ax.set_xticklabels(ax.get_xticklabels(), \n",
    "                   fontsize='large', \n",
    "                   fontweight='bold') \n",
    "\n",
    "\n",
    "## Making major/minor gridlines visually distinct\n",
    "ax.grid(which='minor',axis='x',ls=\":\")\n",
    "ax.grid(which='major',axis='x',color='k')\n",
    "\n",
    "## rotate the dates\n",
    "fig.autofmt_xdate(which='major',rotation=90,ha='center')\n",
    "\n",
    "ax.axvline(date ,color='red',lw=2.5, ls=':', label=f'Inches = {precipitation}')\n",
    "\n",
    "plt.ylabel('Inches')\n",
    "\n",
    "ax.legend(bbox_to_anchor=[1,1]);"
   ]
  },
  {
   "cell_type": "markdown",
   "id": "a91f20da",
   "metadata": {},
   "source": [
    "# Q2: Which year between 2000-2020 had the coolest average temperature?\n",
    "\n",
    "- Resample the data as Yearly frequency.\n",
    "- Plot the feature and time period that corresponds to the question.\n",
    "  - Make sure to meet the \"Visualization Requirements\" below!\n",
    "- Determine the date and value for the lowest mean temp.\n",
    "- Add a vertical line at this date with a label that says the date (using date format: \"2000\") and the lowest mean temperature value."
   ]
  },
  {
   "cell_type": "code",
   "execution_count": 36,
   "id": "c38c5549",
   "metadata": {},
   "outputs": [
    {
     "data": {
      "text/plain": [
       "DatetimeIndex(['2000-12-31', '2001-12-31', '2002-12-31', '2003-12-31',\n",
       "               '2004-12-31', '2005-12-31', '2006-12-31', '2007-12-31',\n",
       "               '2008-12-31', '2009-12-31', '2010-12-31', '2011-12-31',\n",
       "               '2012-12-31', '2013-12-31', '2014-12-31', '2015-12-31',\n",
       "               '2016-12-31', '2017-12-31', '2018-12-31', '2019-12-31',\n",
       "               '2020-12-31'],\n",
       "              dtype='datetime64[ns]', name='datetime', freq='A-DEC')"
      ]
     },
     "execution_count": 36,
     "metadata": {},
     "output_type": "execute_result"
    }
   ],
   "source": [
    "df_year.index"
   ]
  },
  {
   "cell_type": "code",
   "execution_count": 37,
   "id": "0e2687f1",
   "metadata": {},
   "outputs": [
    {
     "data": {
      "text/html": [
       "<div>\n",
       "<style scoped>\n",
       "    .dataframe tbody tr th:only-of-type {\n",
       "        vertical-align: middle;\n",
       "    }\n",
       "\n",
       "    .dataframe tbody tr th {\n",
       "        vertical-align: top;\n",
       "    }\n",
       "\n",
       "    .dataframe thead th {\n",
       "        text-align: right;\n",
       "    }\n",
       "</style>\n",
       "<table border=\"1\" class=\"dataframe\">\n",
       "  <thead>\n",
       "    <tr style=\"text-align: right;\">\n",
       "      <th></th>\n",
       "      <th>precipitation</th>\n",
       "      <th>mean_temp</th>\n",
       "      <th>min_temp</th>\n",
       "      <th>max_temp</th>\n",
       "      <th>snow_depth</th>\n",
       "    </tr>\n",
       "    <tr>\n",
       "      <th>datetime</th>\n",
       "      <th></th>\n",
       "      <th></th>\n",
       "      <th></th>\n",
       "      <th></th>\n",
       "      <th></th>\n",
       "    </tr>\n",
       "  </thead>\n",
       "  <tbody>\n",
       "    <tr>\n",
       "      <th>2000-12-31</th>\n",
       "      <td>2.107289</td>\n",
       "      <td>11.532070</td>\n",
       "      <td>7.973469</td>\n",
       "      <td>15.108746</td>\n",
       "      <td>0.008746</td>\n",
       "    </tr>\n",
       "    <tr>\n",
       "      <th>2001-12-31</th>\n",
       "      <td>1.952023</td>\n",
       "      <td>11.313006</td>\n",
       "      <td>7.641618</td>\n",
       "      <td>14.965029</td>\n",
       "      <td>0.000000</td>\n",
       "    </tr>\n",
       "    <tr>\n",
       "      <th>2002-12-31</th>\n",
       "      <td>2.148286</td>\n",
       "      <td>12.006286</td>\n",
       "      <td>8.353143</td>\n",
       "      <td>15.732000</td>\n",
       "      <td>0.000000</td>\n",
       "    </tr>\n",
       "    <tr>\n",
       "      <th>2003-12-31</th>\n",
       "      <td>1.311396</td>\n",
       "      <td>12.232764</td>\n",
       "      <td>7.986040</td>\n",
       "      <td>16.494302</td>\n",
       "      <td>0.025641</td>\n",
       "    </tr>\n",
       "    <tr>\n",
       "      <th>2004-12-31</th>\n",
       "      <td>1.710951</td>\n",
       "      <td>11.872046</td>\n",
       "      <td>8.212392</td>\n",
       "      <td>15.514409</td>\n",
       "      <td>0.005764</td>\n",
       "    </tr>\n",
       "  </tbody>\n",
       "</table>\n",
       "</div>"
      ],
      "text/plain": [
       "            precipitation  mean_temp  min_temp   max_temp  snow_depth\n",
       "datetime                                                             \n",
       "2000-12-31       2.107289  11.532070  7.973469  15.108746    0.008746\n",
       "2001-12-31       1.952023  11.313006  7.641618  14.965029    0.000000\n",
       "2002-12-31       2.148286  12.006286  8.353143  15.732000    0.000000\n",
       "2003-12-31       1.311396  12.232764  7.986040  16.494302    0.025641\n",
       "2004-12-31       1.710951  11.872046  8.212392  15.514409    0.005764"
      ]
     },
     "execution_count": 37,
     "metadata": {},
     "output_type": "execute_result"
    }
   ],
   "source": [
    "df_year.head()"
   ]
  },
  {
   "cell_type": "code",
   "execution_count": 38,
   "id": "e1839b42",
   "metadata": {},
   "outputs": [
    {
     "data": {
      "text/plain": [
       "precipitation     1.378426\n",
       "mean_temp        10.645773\n",
       "min_temp          6.764723\n",
       "max_temp         14.491545\n",
       "snow_depth        0.294118\n",
       "Name: 2010-12-31 00:00:00, dtype: float64"
      ]
     },
     "execution_count": 38,
     "metadata": {},
     "output_type": "execute_result"
    }
   ],
   "source": [
    "df_year.loc[df_year['mean_temp'].idxmin()]"
   ]
  },
  {
   "cell_type": "code",
   "execution_count": 39,
   "id": "180c2dc4",
   "metadata": {},
   "outputs": [],
   "source": [
    "precipitation2, mean_temp2, min_temp2, max_temp2, snow_depth2 = df_year.loc[df_year['mean_temp'].idxmin()].round(2)"
   ]
  },
  {
   "cell_type": "code",
   "execution_count": 40,
   "id": "9ee8f3f9",
   "metadata": {},
   "outputs": [
    {
     "name": "stdout",
     "output_type": "stream",
     "text": [
      "2010-12-31\n"
     ]
    }
   ],
   "source": [
    "date2 = df_year.loc[df_year['mean_temp'].idxmin()].name.date()\n",
    "print(date2)"
   ]
  },
  {
   "cell_type": "code",
   "execution_count": 41,
   "id": "83329d4f",
   "metadata": {},
   "outputs": [
    {
     "name": "stdout",
     "output_type": "stream",
     "text": [
      "Date with the highest precipitation: 2010-12-31\n",
      "Precipitation: 10.65\n"
     ]
    }
   ],
   "source": [
    "print(f'Date with the highest precipitation: {date2}')\n",
    "print(f'Precipitation: {mean_temp2}')"
   ]
  },
  {
   "cell_type": "markdown",
   "id": "471c44c8",
   "metadata": {},
   "source": [
    "## Plot the feature and time period"
   ]
  },
  {
   "cell_type": "code",
   "execution_count": 42,
   "id": "e704f3b8",
   "metadata": {},
   "outputs": [
    {
     "data": {
      "text/plain": [
       "datetime\n",
       "2000-12-31    11.53\n",
       "2001-12-31    11.31\n",
       "2002-12-31    12.01\n",
       "2003-12-31    12.23\n",
       "2004-12-31    11.87\n",
       "2005-12-31    11.88\n",
       "2006-12-31    12.39\n",
       "2007-12-31    12.06\n",
       "2008-12-31    11.17\n",
       "2009-12-31    11.72\n",
       "2010-12-31    10.65\n",
       "2011-12-31    12.47\n",
       "2012-12-31    11.32\n",
       "2013-12-31    11.20\n",
       "2014-12-31    12.61\n",
       "2015-12-31    12.09\n",
       "2016-12-31    11.89\n",
       "2017-12-31    12.24\n",
       "2018-12-31    12.44\n",
       "2019-12-31    12.23\n",
       "2020-12-31    12.72\n",
       "Freq: A-DEC, Name: mean_temp, dtype: float64"
      ]
     },
     "execution_count": 42,
     "metadata": {},
     "output_type": "execute_result"
    }
   ],
   "source": [
    "ts_2020 = df_year['mean_temp'].round(2)\n",
    "ts_2020"
   ]
  },
  {
   "cell_type": "code",
   "execution_count": 43,
   "id": "39d741c4",
   "metadata": {},
   "outputs": [
    {
     "data": {
      "image/png": "[encoded data removed]",
      "text/plain": [
       "<Figure size 1200x300 with 1 Axes>"
      ]
     },
     "metadata": {},
     "output_type": "display_data"
    }
   ],
   "source": [
    "# move legend to outside of plot on right side\n",
    "fig, ax = plt.subplots(figsize=(12,3))\n",
    "ax.set_title('Average Temperature')\n",
    "\n",
    "ts_2020.plot(style='-')\n",
    "\n",
    "\n",
    "## Change the font of the major ticks to stand out\n",
    "ax.set_xticks(ax.get_xticks())\n",
    "ax.set_xticklabels(ax.get_xticklabels(), \n",
    "                   fontsize='large', \n",
    "                   fontweight='bold') \n",
    "\n",
    "\n",
    "## Making major/minor gridlines visually distinct\n",
    "ax.grid(which='minor',axis='x',ls=\":\")\n",
    "ax.grid(which='major',axis='x',color='k')\n",
    "\n",
    "## rotate the dates\n",
    "fig.autofmt_xdate(which='major',rotation=90,ha='center')\n",
    "\n",
    "ax.axvline(date2, color='red',lw=2.5, ls=':', label=f'Temperature = {mean_temp2}')\n",
    "\n",
    "plt.ylabel('Degrees')\n",
    "\n",
    "ax.legend(bbox_to_anchor=[1,1]);"
   ]
  }
 ],
 "metadata": {
  "kernelspec": {
   "display_name": "Python (dojo-env)",
   "language": "python",
   "name": "dojo-env"
  },
  "language_info": {
   "codemirror_mode": {
    "name": "ipython",
    "version": 3
   },
   "file_extension": ".py",
   "mimetype": "text/x-python",
   "name": "python",
   "nbconvert_exporter": "python",
   "pygments_lexer": "ipython3",
   "version": "3.9.15"
  },
  "toc": {
   "base_numbering": 1,
   "nav_menu": {},
   "number_sections": false,
   "sideBar": true,
   "skip_h1_title": false,
   "title_cell": "Table of Contents",
   "title_sidebar": "Contents",
   "toc_cell": false,
   "toc_position": {},
   "toc_section_display": true,
   "toc_window_display": false
  }
 },
 "nbformat": 4,
 "nbformat_minor": 5
}
